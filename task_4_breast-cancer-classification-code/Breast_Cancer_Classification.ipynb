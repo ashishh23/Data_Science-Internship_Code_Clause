{
 "cells": [
  {
   "cell_type": "markdown",
   "metadata": {
    "id": "0j_XCcYGt2lc"
   },
   "source": [
    "\n",
    " # Breast_Cancer_Classification"
   ]
  },
  {
   "cell_type": "markdown",
   "metadata": {},
   "source": [
    "## Name:- Ashish Kothwal"
   ]
  },
  {
   "cell_type": "code",
   "execution_count": 1,
   "metadata": {},
   "outputs": [],
   "source": [
    "# Import libraries\n",
    "import numpy as np\n",
    "import pandas as pd\n",
    "import matplotlib.pyplot as plt\n",
    "import seaborn as sns"
   ]
  },
  {
   "cell_type": "code",
   "execution_count": 2,
   "metadata": {
    "colab": {
     "base_uri": "https://localhost:8080/",
     "height": 396
    },
    "id": "7mHdEvf82k3d",
    "outputId": "87338066-34cd-4048-c9cb-96ad630ae54a"
   },
   "outputs": [
    {
     "data": {
      "text/html": [
       "<div>\n",
       "<style scoped>\n",
       "    .dataframe tbody tr th:only-of-type {\n",
       "        vertical-align: middle;\n",
       "    }\n",
       "\n",
       "    .dataframe tbody tr th {\n",
       "        vertical-align: top;\n",
       "    }\n",
       "\n",
       "    .dataframe thead th {\n",
       "        text-align: right;\n",
       "    }\n",
       "</style>\n",
       "<table border=\"1\" class=\"dataframe\">\n",
       "  <thead>\n",
       "    <tr style=\"text-align: right;\">\n",
       "      <th></th>\n",
       "      <th>id</th>\n",
       "      <th>diagnosis</th>\n",
       "      <th>radius_mean</th>\n",
       "      <th>texture_mean</th>\n",
       "      <th>perimeter_mean</th>\n",
       "      <th>area_mean</th>\n",
       "      <th>smoothness_mean</th>\n",
       "      <th>compactness_mean</th>\n",
       "      <th>concavity_mean</th>\n",
       "      <th>concave points_mean</th>\n",
       "      <th>...</th>\n",
       "      <th>texture_worst</th>\n",
       "      <th>perimeter_worst</th>\n",
       "      <th>area_worst</th>\n",
       "      <th>smoothness_worst</th>\n",
       "      <th>compactness_worst</th>\n",
       "      <th>concavity_worst</th>\n",
       "      <th>concave points_worst</th>\n",
       "      <th>symmetry_worst</th>\n",
       "      <th>fractal_dimension_worst</th>\n",
       "      <th>Unnamed: 32</th>\n",
       "    </tr>\n",
       "  </thead>\n",
       "  <tbody>\n",
       "    <tr>\n",
       "      <th>0</th>\n",
       "      <td>842302</td>\n",
       "      <td>M</td>\n",
       "      <td>17.99</td>\n",
       "      <td>10.38</td>\n",
       "      <td>122.80</td>\n",
       "      <td>1001.0</td>\n",
       "      <td>0.11840</td>\n",
       "      <td>0.27760</td>\n",
       "      <td>0.30010</td>\n",
       "      <td>0.14710</td>\n",
       "      <td>...</td>\n",
       "      <td>17.33</td>\n",
       "      <td>184.60</td>\n",
       "      <td>2019.0</td>\n",
       "      <td>0.1622</td>\n",
       "      <td>0.6656</td>\n",
       "      <td>0.7119</td>\n",
       "      <td>0.2654</td>\n",
       "      <td>0.4601</td>\n",
       "      <td>0.11890</td>\n",
       "      <td>NaN</td>\n",
       "    </tr>\n",
       "    <tr>\n",
       "      <th>1</th>\n",
       "      <td>842517</td>\n",
       "      <td>M</td>\n",
       "      <td>20.57</td>\n",
       "      <td>17.77</td>\n",
       "      <td>132.90</td>\n",
       "      <td>1326.0</td>\n",
       "      <td>0.08474</td>\n",
       "      <td>0.07864</td>\n",
       "      <td>0.08690</td>\n",
       "      <td>0.07017</td>\n",
       "      <td>...</td>\n",
       "      <td>23.41</td>\n",
       "      <td>158.80</td>\n",
       "      <td>1956.0</td>\n",
       "      <td>0.1238</td>\n",
       "      <td>0.1866</td>\n",
       "      <td>0.2416</td>\n",
       "      <td>0.1860</td>\n",
       "      <td>0.2750</td>\n",
       "      <td>0.08902</td>\n",
       "      <td>NaN</td>\n",
       "    </tr>\n",
       "    <tr>\n",
       "      <th>2</th>\n",
       "      <td>84300903</td>\n",
       "      <td>M</td>\n",
       "      <td>19.69</td>\n",
       "      <td>21.25</td>\n",
       "      <td>130.00</td>\n",
       "      <td>1203.0</td>\n",
       "      <td>0.10960</td>\n",
       "      <td>0.15990</td>\n",
       "      <td>0.19740</td>\n",
       "      <td>0.12790</td>\n",
       "      <td>...</td>\n",
       "      <td>25.53</td>\n",
       "      <td>152.50</td>\n",
       "      <td>1709.0</td>\n",
       "      <td>0.1444</td>\n",
       "      <td>0.4245</td>\n",
       "      <td>0.4504</td>\n",
       "      <td>0.2430</td>\n",
       "      <td>0.3613</td>\n",
       "      <td>0.08758</td>\n",
       "      <td>NaN</td>\n",
       "    </tr>\n",
       "    <tr>\n",
       "      <th>3</th>\n",
       "      <td>84348301</td>\n",
       "      <td>M</td>\n",
       "      <td>11.42</td>\n",
       "      <td>20.38</td>\n",
       "      <td>77.58</td>\n",
       "      <td>386.1</td>\n",
       "      <td>0.14250</td>\n",
       "      <td>0.28390</td>\n",
       "      <td>0.24140</td>\n",
       "      <td>0.10520</td>\n",
       "      <td>...</td>\n",
       "      <td>26.50</td>\n",
       "      <td>98.87</td>\n",
       "      <td>567.7</td>\n",
       "      <td>0.2098</td>\n",
       "      <td>0.8663</td>\n",
       "      <td>0.6869</td>\n",
       "      <td>0.2575</td>\n",
       "      <td>0.6638</td>\n",
       "      <td>0.17300</td>\n",
       "      <td>NaN</td>\n",
       "    </tr>\n",
       "    <tr>\n",
       "      <th>4</th>\n",
       "      <td>84358402</td>\n",
       "      <td>M</td>\n",
       "      <td>20.29</td>\n",
       "      <td>14.34</td>\n",
       "      <td>135.10</td>\n",
       "      <td>1297.0</td>\n",
       "      <td>0.10030</td>\n",
       "      <td>0.13280</td>\n",
       "      <td>0.19800</td>\n",
       "      <td>0.10430</td>\n",
       "      <td>...</td>\n",
       "      <td>16.67</td>\n",
       "      <td>152.20</td>\n",
       "      <td>1575.0</td>\n",
       "      <td>0.1374</td>\n",
       "      <td>0.2050</td>\n",
       "      <td>0.4000</td>\n",
       "      <td>0.1625</td>\n",
       "      <td>0.2364</td>\n",
       "      <td>0.07678</td>\n",
       "      <td>NaN</td>\n",
       "    </tr>\n",
       "    <tr>\n",
       "      <th>5</th>\n",
       "      <td>843786</td>\n",
       "      <td>M</td>\n",
       "      <td>12.45</td>\n",
       "      <td>15.70</td>\n",
       "      <td>82.57</td>\n",
       "      <td>477.1</td>\n",
       "      <td>0.12780</td>\n",
       "      <td>0.17000</td>\n",
       "      <td>0.15780</td>\n",
       "      <td>0.08089</td>\n",
       "      <td>...</td>\n",
       "      <td>23.75</td>\n",
       "      <td>103.40</td>\n",
       "      <td>741.6</td>\n",
       "      <td>0.1791</td>\n",
       "      <td>0.5249</td>\n",
       "      <td>0.5355</td>\n",
       "      <td>0.1741</td>\n",
       "      <td>0.3985</td>\n",
       "      <td>0.12440</td>\n",
       "      <td>NaN</td>\n",
       "    </tr>\n",
       "    <tr>\n",
       "      <th>6</th>\n",
       "      <td>844359</td>\n",
       "      <td>M</td>\n",
       "      <td>18.25</td>\n",
       "      <td>19.98</td>\n",
       "      <td>119.60</td>\n",
       "      <td>1040.0</td>\n",
       "      <td>0.09463</td>\n",
       "      <td>0.10900</td>\n",
       "      <td>0.11270</td>\n",
       "      <td>0.07400</td>\n",
       "      <td>...</td>\n",
       "      <td>27.66</td>\n",
       "      <td>153.20</td>\n",
       "      <td>1606.0</td>\n",
       "      <td>0.1442</td>\n",
       "      <td>0.2576</td>\n",
       "      <td>0.3784</td>\n",
       "      <td>0.1932</td>\n",
       "      <td>0.3063</td>\n",
       "      <td>0.08368</td>\n",
       "      <td>NaN</td>\n",
       "    </tr>\n",
       "    <tr>\n",
       "      <th>7</th>\n",
       "      <td>84458202</td>\n",
       "      <td>M</td>\n",
       "      <td>13.71</td>\n",
       "      <td>20.83</td>\n",
       "      <td>90.20</td>\n",
       "      <td>577.9</td>\n",
       "      <td>0.11890</td>\n",
       "      <td>0.16450</td>\n",
       "      <td>0.09366</td>\n",
       "      <td>0.05985</td>\n",
       "      <td>...</td>\n",
       "      <td>28.14</td>\n",
       "      <td>110.60</td>\n",
       "      <td>897.0</td>\n",
       "      <td>0.1654</td>\n",
       "      <td>0.3682</td>\n",
       "      <td>0.2678</td>\n",
       "      <td>0.1556</td>\n",
       "      <td>0.3196</td>\n",
       "      <td>0.11510</td>\n",
       "      <td>NaN</td>\n",
       "    </tr>\n",
       "    <tr>\n",
       "      <th>8</th>\n",
       "      <td>844981</td>\n",
       "      <td>M</td>\n",
       "      <td>13.00</td>\n",
       "      <td>21.82</td>\n",
       "      <td>87.50</td>\n",
       "      <td>519.8</td>\n",
       "      <td>0.12730</td>\n",
       "      <td>0.19320</td>\n",
       "      <td>0.18590</td>\n",
       "      <td>0.09353</td>\n",
       "      <td>...</td>\n",
       "      <td>30.73</td>\n",
       "      <td>106.20</td>\n",
       "      <td>739.3</td>\n",
       "      <td>0.1703</td>\n",
       "      <td>0.5401</td>\n",
       "      <td>0.5390</td>\n",
       "      <td>0.2060</td>\n",
       "      <td>0.4378</td>\n",
       "      <td>0.10720</td>\n",
       "      <td>NaN</td>\n",
       "    </tr>\n",
       "    <tr>\n",
       "      <th>9</th>\n",
       "      <td>84501001</td>\n",
       "      <td>M</td>\n",
       "      <td>12.46</td>\n",
       "      <td>24.04</td>\n",
       "      <td>83.97</td>\n",
       "      <td>475.9</td>\n",
       "      <td>0.11860</td>\n",
       "      <td>0.23960</td>\n",
       "      <td>0.22730</td>\n",
       "      <td>0.08543</td>\n",
       "      <td>...</td>\n",
       "      <td>40.68</td>\n",
       "      <td>97.65</td>\n",
       "      <td>711.4</td>\n",
       "      <td>0.1853</td>\n",
       "      <td>1.0580</td>\n",
       "      <td>1.1050</td>\n",
       "      <td>0.2210</td>\n",
       "      <td>0.4366</td>\n",
       "      <td>0.20750</td>\n",
       "      <td>NaN</td>\n",
       "    </tr>\n",
       "  </tbody>\n",
       "</table>\n",
       "<p>10 rows × 33 columns</p>\n",
       "</div>"
      ],
      "text/plain": [
       "         id diagnosis  radius_mean  texture_mean  perimeter_mean  area_mean  \\\n",
       "0    842302         M        17.99         10.38          122.80     1001.0   \n",
       "1    842517         M        20.57         17.77          132.90     1326.0   \n",
       "2  84300903         M        19.69         21.25          130.00     1203.0   \n",
       "3  84348301         M        11.42         20.38           77.58      386.1   \n",
       "4  84358402         M        20.29         14.34          135.10     1297.0   \n",
       "5    843786         M        12.45         15.70           82.57      477.1   \n",
       "6    844359         M        18.25         19.98          119.60     1040.0   \n",
       "7  84458202         M        13.71         20.83           90.20      577.9   \n",
       "8    844981         M        13.00         21.82           87.50      519.8   \n",
       "9  84501001         M        12.46         24.04           83.97      475.9   \n",
       "\n",
       "   smoothness_mean  compactness_mean  concavity_mean  concave points_mean  \\\n",
       "0          0.11840           0.27760         0.30010              0.14710   \n",
       "1          0.08474           0.07864         0.08690              0.07017   \n",
       "2          0.10960           0.15990         0.19740              0.12790   \n",
       "3          0.14250           0.28390         0.24140              0.10520   \n",
       "4          0.10030           0.13280         0.19800              0.10430   \n",
       "5          0.12780           0.17000         0.15780              0.08089   \n",
       "6          0.09463           0.10900         0.11270              0.07400   \n",
       "7          0.11890           0.16450         0.09366              0.05985   \n",
       "8          0.12730           0.19320         0.18590              0.09353   \n",
       "9          0.11860           0.23960         0.22730              0.08543   \n",
       "\n",
       "   ...  texture_worst  perimeter_worst  area_worst  smoothness_worst  \\\n",
       "0  ...          17.33           184.60      2019.0            0.1622   \n",
       "1  ...          23.41           158.80      1956.0            0.1238   \n",
       "2  ...          25.53           152.50      1709.0            0.1444   \n",
       "3  ...          26.50            98.87       567.7            0.2098   \n",
       "4  ...          16.67           152.20      1575.0            0.1374   \n",
       "5  ...          23.75           103.40       741.6            0.1791   \n",
       "6  ...          27.66           153.20      1606.0            0.1442   \n",
       "7  ...          28.14           110.60       897.0            0.1654   \n",
       "8  ...          30.73           106.20       739.3            0.1703   \n",
       "9  ...          40.68            97.65       711.4            0.1853   \n",
       "\n",
       "   compactness_worst  concavity_worst  concave points_worst  symmetry_worst  \\\n",
       "0             0.6656           0.7119                0.2654          0.4601   \n",
       "1             0.1866           0.2416                0.1860          0.2750   \n",
       "2             0.4245           0.4504                0.2430          0.3613   \n",
       "3             0.8663           0.6869                0.2575          0.6638   \n",
       "4             0.2050           0.4000                0.1625          0.2364   \n",
       "5             0.5249           0.5355                0.1741          0.3985   \n",
       "6             0.2576           0.3784                0.1932          0.3063   \n",
       "7             0.3682           0.2678                0.1556          0.3196   \n",
       "8             0.5401           0.5390                0.2060          0.4378   \n",
       "9             1.0580           1.1050                0.2210          0.4366   \n",
       "\n",
       "   fractal_dimension_worst  Unnamed: 32  \n",
       "0                  0.11890          NaN  \n",
       "1                  0.08902          NaN  \n",
       "2                  0.08758          NaN  \n",
       "3                  0.17300          NaN  \n",
       "4                  0.07678          NaN  \n",
       "5                  0.12440          NaN  \n",
       "6                  0.08368          NaN  \n",
       "7                  0.11510          NaN  \n",
       "8                  0.10720          NaN  \n",
       "9                  0.20750          NaN  \n",
       "\n",
       "[10 rows x 33 columns]"
      ]
     },
     "execution_count": 2,
     "metadata": {},
     "output_type": "execute_result"
    }
   ],
   "source": [
    "df = pd.read_csv('data.csv')\n",
    "df.head(10)"
   ]
  },
  {
   "cell_type": "code",
   "execution_count": 3,
   "metadata": {
    "colab": {
     "base_uri": "https://localhost:8080/"
    },
    "id": "jyBp22rf2xD3",
    "outputId": "554cb263-29c1-450a-d13f-8597292aff8a"
   },
   "outputs": [
    {
     "data": {
      "text/plain": [
       "(569, 33)"
      ]
     },
     "execution_count": 3,
     "metadata": {},
     "output_type": "execute_result"
    }
   ],
   "source": [
    "# count the number of rows and columns in dataset:\n",
    "df.shape"
   ]
  },
  {
   "cell_type": "code",
   "execution_count": 4,
   "metadata": {
    "colab": {
     "base_uri": "https://localhost:8080/"
    },
    "id": "imHTmM883A3k",
    "outputId": "0f6381cd-9f0b-4dcf-88be-e27f4ee5c609"
   },
   "outputs": [
    {
     "data": {
      "text/plain": [
       "id                           0\n",
       "diagnosis                    0\n",
       "radius_mean                  0\n",
       "texture_mean                 0\n",
       "perimeter_mean               0\n",
       "area_mean                    0\n",
       "smoothness_mean              0\n",
       "compactness_mean             0\n",
       "concavity_mean               0\n",
       "concave points_mean          0\n",
       "symmetry_mean                0\n",
       "fractal_dimension_mean       0\n",
       "radius_se                    0\n",
       "texture_se                   0\n",
       "perimeter_se                 0\n",
       "area_se                      0\n",
       "smoothness_se                0\n",
       "compactness_se               0\n",
       "concavity_se                 0\n",
       "concave points_se            0\n",
       "symmetry_se                  0\n",
       "fractal_dimension_se         0\n",
       "radius_worst                 0\n",
       "texture_worst                0\n",
       "perimeter_worst              0\n",
       "area_worst                   0\n",
       "smoothness_worst             0\n",
       "compactness_worst            0\n",
       "concavity_worst              0\n",
       "concave points_worst         0\n",
       "symmetry_worst               0\n",
       "fractal_dimension_worst      0\n",
       "Unnamed: 32                569\n",
       "dtype: int64"
      ]
     },
     "execution_count": 4,
     "metadata": {},
     "output_type": "execute_result"
    }
   ],
   "source": [
    "# count the number of empty values in each columns:\n",
    "df.isna().sum()"
   ]
  },
  {
   "cell_type": "code",
   "execution_count": 5,
   "metadata": {
    "id": "EGZlNw0F3Ktu"
   },
   "outputs": [],
   "source": [
    "# drop the columns with all the missing values:\n",
    "df = df.dropna(axis = 1)"
   ]
  },
  {
   "cell_type": "code",
   "execution_count": 6,
   "metadata": {
    "colab": {
     "base_uri": "https://localhost:8080/"
    },
    "id": "iyjuaE2h3Ywj",
    "outputId": "36731bfe-f4b2-4347-9136-d1b5651bf124"
   },
   "outputs": [
    {
     "data": {
      "text/plain": [
       "(569, 32)"
      ]
     },
     "execution_count": 6,
     "metadata": {},
     "output_type": "execute_result"
    }
   ],
   "source": [
    "df.shape"
   ]
  },
  {
   "cell_type": "code",
   "execution_count": 7,
   "metadata": {
    "colab": {
     "base_uri": "https://localhost:8080/"
    },
    "id": "m29_nXaa3jgn",
    "outputId": "6fa0a4d0-4a28-4947-e571-bd6dcd43802f"
   },
   "outputs": [
    {
     "data": {
      "text/plain": [
       "B    357\n",
       "M    212\n",
       "Name: diagnosis, dtype: int64"
      ]
     },
     "execution_count": 7,
     "metadata": {},
     "output_type": "execute_result"
    }
   ],
   "source": [
    "# Get the count of the number of Malognant(M) or Benign(B) cells\n",
    "df['diagnosis'].value_counts()"
   ]
  },
  {
   "cell_type": "code",
   "execution_count": 8,
   "metadata": {
    "colab": {
     "base_uri": "https://localhost:8080/",
     "height": 350
    },
    "id": "9uAMvyG3314w",
    "outputId": "daa0cd74-7c56-41ba-fb39-0579940778d8"
   },
   "outputs": [
    {
     "name": "stderr",
     "output_type": "stream",
     "text": [
      "C:\\ProgramData\\Anaconda3\\lib\\site-packages\\seaborn\\_decorators.py:36: FutureWarning: Pass the following variable as a keyword arg: x. From version 0.12, the only valid positional argument will be `data`, and passing other arguments without an explicit keyword will result in an error or misinterpretation.\n",
      "  warnings.warn(\n"
     ]
    },
    {
     "data": {
      "text/plain": [
       "<AxesSubplot:xlabel='diagnosis', ylabel='count'>"
      ]
     },
     "execution_count": 8,
     "metadata": {},
     "output_type": "execute_result"
    },
    {
     "data": {
      "image/png": "[encoded data removed]",
      "text/plain": [
       "<Figure size 640x480 with 1 Axes>"
      ]
     },
     "metadata": {},
     "output_type": "display_data"
    }
   ],
   "source": [
    "# visualize the count:\n",
    "sns.countplot(df['diagnosis'], label = 'count')"
   ]
  },
  {
   "cell_type": "code",
   "execution_count": 9,
   "metadata": {
    "colab": {
     "base_uri": "https://localhost:8080/"
    },
    "id": "zudIF7fg4LsC",
    "outputId": "d54379ee-762d-493d-d2c3-5e9eb2beb787"
   },
   "outputs": [
    {
     "data": {
      "text/plain": [
       "id                           int64\n",
       "diagnosis                   object\n",
       "radius_mean                float64\n",
       "texture_mean               float64\n",
       "perimeter_mean             float64\n",
       "area_mean                  float64\n",
       "smoothness_mean            float64\n",
       "compactness_mean           float64\n",
       "concavity_mean             float64\n",
       "concave points_mean        float64\n",
       "symmetry_mean              float64\n",
       "fractal_dimension_mean     float64\n",
       "radius_se                  float64\n",
       "texture_se                 float64\n",
       "perimeter_se               float64\n",
       "area_se                    float64\n",
       "smoothness_se              float64\n",
       "compactness_se             float64\n",
       "concavity_se               float64\n",
       "concave points_se          float64\n",
       "symmetry_se                float64\n",
       "fractal_dimension_se       float64\n",
       "radius_worst               float64\n",
       "texture_worst              float64\n",
       "perimeter_worst            float64\n",
       "area_worst                 float64\n",
       "smoothness_worst           float64\n",
       "compactness_worst          float64\n",
       "concavity_worst            float64\n",
       "concave points_worst       float64\n",
       "symmetry_worst             float64\n",
       "fractal_dimension_worst    float64\n",
       "dtype: object"
      ]
     },
     "execution_count": 9,
     "metadata": {},
     "output_type": "execute_result"
    }
   ],
   "source": [
    "# look at the data types to see which columns need to be encoded:\n",
    "df.dtypes"
   ]
  },
  {
   "cell_type": "code",
   "execution_count": 10,
   "metadata": {
    "colab": {
     "base_uri": "https://localhost:8080/"
    },
    "id": "c1XG_3J94c40",
    "outputId": "190ce0bc-d18c-4f51-8df9-92596e89dea4"
   },
   "outputs": [
    {
     "name": "stdout",
     "output_type": "stream",
     "text": [
      "id                           int64\n",
      "label                       object\n",
      "radius_mean                float64\n",
      "texture_mean               float64\n",
      "perimeter_mean             float64\n",
      "area_mean                  float64\n",
      "smoothness_mean            float64\n",
      "compactness_mean           float64\n",
      "concavity_mean             float64\n",
      "concave points_mean        float64\n",
      "symmetry_mean              float64\n",
      "fractal_dimension_mean     float64\n",
      "radius_se                  float64\n",
      "texture_se                 float64\n",
      "perimeter_se               float64\n",
      "area_se                    float64\n",
      "smoothness_se              float64\n",
      "compactness_se             float64\n",
      "concavity_se               float64\n",
      "concave points_se          float64\n",
      "symmetry_se                float64\n",
      "fractal_dimension_se       float64\n",
      "radius_worst               float64\n",
      "texture_worst              float64\n",
      "perimeter_worst            float64\n",
      "area_worst                 float64\n",
      "smoothness_worst           float64\n",
      "compactness_worst          float64\n",
      "concavity_worst            float64\n",
      "concave points_worst       float64\n",
      "symmetry_worst             float64\n",
      "fractal_dimension_worst    float64\n",
      "dtype: object\n"
     ]
    }
   ],
   "source": [
    "# Rename the dagnosis data to labels:\n",
    "df = df.rename(columns = {'diagnosis' : 'label'})\n",
    "print(df.dtypes)"
   ]
  },
  {
   "cell_type": "code",
   "execution_count": 11,
   "metadata": {
    "colab": {
     "base_uri": "https://localhost:8080/"
    },
    "id": "6mhJyhXJ8dpP",
    "outputId": "b2a5b518-3ed7-4ee4-add5-ab24b378f2fc"
   },
   "outputs": [
    {
     "name": "stdout",
     "output_type": "stream",
     "text": [
      "['B' 'M']\n"
     ]
    }
   ],
   "source": [
    "# define the dependent variable that need to predict(label)\n",
    "y = df['label'].values\n",
    "print(np.unique(y))"
   ]
  },
  {
   "cell_type": "code",
   "execution_count": 12,
   "metadata": {
    "colab": {
     "base_uri": "https://localhost:8080/"
    },
    "id": "S-yPYDqS9WGs",
    "outputId": "019a76fd-f1be-40ca-e372-f5ae5b89f478"
   },
   "outputs": [
    {
     "name": "stdout",
     "output_type": "stream",
     "text": [
      "[0 1]\n"
     ]
    }
   ],
   "source": [
    "# Encoding categorical data from text(B and M) to integers (0 and 1)\n",
    "from sklearn.preprocessing import LabelEncoder\n",
    "labelencoder = LabelEncoder()\n",
    "Y = labelencoder.fit_transform(y) # M = 1 and B = 0\n",
    "print(np.unique(Y)) "
   ]
  },
  {
   "cell_type": "code",
   "execution_count": 13,
   "metadata": {
    "colab": {
     "base_uri": "https://localhost:8080/"
    },
    "id": "zccCNgtO-JpY",
    "outputId": "436bf3b6-54c9-4dd7-8614-226704ab2dbb"
   },
   "outputs": [
    {
     "name": "stdout",
     "output_type": "stream",
     "text": [
      "[[0.52103744 0.0226581  0.54598853 ... 0.91202749 0.59846245 0.41886396]\n",
      " [0.64314449 0.27257355 0.61578329 ... 0.63917526 0.23358959 0.22287813]\n",
      " [0.60149557 0.3902604  0.59574321 ... 0.83505155 0.40370589 0.21343303]\n",
      " ...\n",
      " [0.45525108 0.62123774 0.44578813 ... 0.48728522 0.12872068 0.1519087 ]\n",
      " [0.64456434 0.66351031 0.66553797 ... 0.91065292 0.49714173 0.45231536]\n",
      " [0.03686876 0.50152181 0.02853984 ... 0.         0.25744136 0.10068215]]\n"
     ]
    }
   ],
   "source": [
    "# define x and normalize / scale value:\n",
    "\n",
    "# define the independent variables, Drop label and ID , and normalize other data:\n",
    "X  = df.drop(labels=['label','id'],axis = 1)\n",
    "\n",
    "#scale / normalize the values to bring them into similar range:\n",
    "from sklearn.preprocessing import MinMaxScaler\n",
    "scaler = MinMaxScaler()\n",
    "scaler.fit(X)\n",
    "X = scaler.transform(X)\n",
    "\n",
    "print(X)\n",
    "\n"
   ]
  },
  {
   "cell_type": "code",
   "execution_count": 14,
   "metadata": {
    "colab": {
     "base_uri": "https://localhost:8080/"
    },
    "id": "vDZ4iB3i_4tf",
    "outputId": "a115340e-4407-455a-f039-1b3caa06af4f"
   },
   "outputs": [
    {
     "name": "stdout",
     "output_type": "stream",
     "text": [
      "Shape of training data is:  (426, 30)\n",
      "Shape of testing data is:  (143, 30)\n"
     ]
    }
   ],
   "source": [
    "# Split data into training and testing data to verify accuracy after fitting the model\n",
    "from sklearn.model_selection import train_test_split\n",
    "x_train,x_test,y_train,y_test = train_test_split(X,Y, test_size = 0.25, random_state=42)\n",
    "print('Shape of training data is: ', x_train.shape)\n",
    "print('Shape of testing data is: ', x_test.shape)"
   ]
  },
  {
   "cell_type": "code",
   "execution_count": 15,
   "metadata": {
    "id": "mcyf-hMoBbJ3"
   },
   "outputs": [],
   "source": [
    "import tensorflow\n",
    "from tensorflow.keras.models import Sequential\n",
    "from tensorflow.keras.layers import Dense, Activation, Dropout"
   ]
  },
  {
   "cell_type": "code",
   "execution_count": 16,
   "metadata": {
    "id": "yUcwtLqZCAPP"
   },
   "outputs": [],
   "source": [
    "model = Sequential()\n",
    "model.add(Dense(128, input_dim=30, activation='relu'))\n",
    "model.add(Dropout(0.5))\n",
    "model.add(Dense(64,activation = 'relu'))\n",
    "model.add(Dropout(0.5))\n",
    "model.add(Dense(1))\n",
    "model.add(Activation('sigmoid'))\n",
    "\n",
    "model.compile(loss = 'binary_crossentropy', optimizer = 'adam' , metrics = ['accuracy'])\n"
   ]
  },
  {
   "cell_type": "code",
   "execution_count": 17,
   "metadata": {
    "colab": {
     "base_uri": "https://localhost:8080/"
    },
    "id": "D1qqk_KMEK1i",
    "outputId": "98a36759-e7d0-4b74-dc4d-a01dcf5f4344"
   },
   "outputs": [
    {
     "name": "stdout",
     "output_type": "stream",
     "text": [
      "Model: \"sequential\"\n",
      "_________________________________________________________________\n",
      " Layer (type)                Output Shape              Param #   \n",
      "=================================================================\n",
      " dense (Dense)               (None, 128)               3968      \n",
      "                                                                 \n",
      " dropout (Dropout)           (None, 128)               0         \n",
      "                                                                 \n",
      " dense_1 (Dense)             (None, 64)                8256      \n",
      "                                                                 \n",
      " dropout_1 (Dropout)         (None, 64)                0         \n",
      "                                                                 \n",
      " dense_2 (Dense)             (None, 1)                 65        \n",
      "                                                                 \n",
      " activation (Activation)     (None, 1)                 0         \n",
      "                                                                 \n",
      "=================================================================\n",
      "Total params: 12,289\n",
      "Trainable params: 12,289\n",
      "Non-trainable params: 0\n",
      "_________________________________________________________________\n"
     ]
    }
   ],
   "source": [
    "model.summary()"
   ]
  },
  {
   "cell_type": "code",
   "execution_count": 18,
   "metadata": {
    "colab": {
     "base_uri": "https://localhost:8080/"
    },
    "id": "533g752yENJ6",
    "outputId": "71dd8db3-5252-4a84-eb4c-6959131e7af6"
   },
   "outputs": [
    {
     "name": "stdout",
     "output_type": "stream",
     "text": [
      "Epoch 1/100\n",
      "7/7 [==============================] - 3s 72ms/step - loss: 0.7058 - accuracy: 0.4413 - val_loss: 0.6636 - val_accuracy: 0.4336\n",
      "Epoch 2/100\n",
      "7/7 [==============================] - 0s 17ms/step - loss: 0.6768 - accuracy: 0.5728 - val_loss: 0.6328 - val_accuracy: 0.8951\n",
      "Epoch 3/100\n",
      "7/7 [==============================] - 0s 15ms/step - loss: 0.6429 - accuracy: 0.6854 - val_loss: 0.5995 - val_accuracy: 0.9301\n",
      "Epoch 4/100\n",
      "7/7 [==============================] - 0s 16ms/step - loss: 0.6151 - accuracy: 0.7418 - val_loss: 0.5554 - val_accuracy: 0.9231\n",
      "Epoch 5/100\n",
      "7/7 [==============================] - 0s 19ms/step - loss: 0.5751 - accuracy: 0.8005 - val_loss: 0.5020 - val_accuracy: 0.9161\n",
      "Epoch 6/100\n",
      "7/7 [==============================] - 0s 14ms/step - loss: 0.5314 - accuracy: 0.8310 - val_loss: 0.4446 - val_accuracy: 0.9301\n",
      "Epoch 7/100\n",
      "7/7 [==============================] - 0s 15ms/step - loss: 0.4804 - accuracy: 0.8638 - val_loss: 0.3840 - val_accuracy: 0.9441\n",
      "Epoch 8/100\n",
      "7/7 [==============================] - 0s 12ms/step - loss: 0.4368 - accuracy: 0.8638 - val_loss: 0.3266 - val_accuracy: 0.9441\n",
      "Epoch 9/100\n",
      "7/7 [==============================] - 0s 13ms/step - loss: 0.3868 - accuracy: 0.8638 - val_loss: 0.2785 - val_accuracy: 0.9441\n",
      "Epoch 10/100\n",
      "7/7 [==============================] - 0s 17ms/step - loss: 0.3443 - accuracy: 0.8826 - val_loss: 0.2369 - val_accuracy: 0.9371\n",
      "Epoch 11/100\n",
      "7/7 [==============================] - 0s 16ms/step - loss: 0.2994 - accuracy: 0.8991 - val_loss: 0.2080 - val_accuracy: 0.9441\n",
      "Epoch 12/100\n",
      "7/7 [==============================] - 0s 18ms/step - loss: 0.2832 - accuracy: 0.9108 - val_loss: 0.1856 - val_accuracy: 0.9441\n",
      "Epoch 13/100\n",
      "7/7 [==============================] - 0s 13ms/step - loss: 0.2828 - accuracy: 0.8944 - val_loss: 0.1629 - val_accuracy: 0.9510\n",
      "Epoch 14/100\n",
      "7/7 [==============================] - 0s 14ms/step - loss: 0.2510 - accuracy: 0.9178 - val_loss: 0.1511 - val_accuracy: 0.9580\n",
      "Epoch 15/100\n",
      "7/7 [==============================] - 0s 14ms/step - loss: 0.2382 - accuracy: 0.9131 - val_loss: 0.1457 - val_accuracy: 0.9510\n",
      "Epoch 16/100\n",
      "7/7 [==============================] - 0s 12ms/step - loss: 0.2346 - accuracy: 0.9038 - val_loss: 0.1307 - val_accuracy: 0.9580\n",
      "Epoch 17/100\n",
      "7/7 [==============================] - 0s 13ms/step - loss: 0.2064 - accuracy: 0.9202 - val_loss: 0.1235 - val_accuracy: 0.9580\n",
      "Epoch 18/100\n",
      "7/7 [==============================] - 0s 14ms/step - loss: 0.2112 - accuracy: 0.9178 - val_loss: 0.1203 - val_accuracy: 0.9650\n",
      "Epoch 19/100\n",
      "7/7 [==============================] - 0s 14ms/step - loss: 0.1958 - accuracy: 0.9249 - val_loss: 0.1162 - val_accuracy: 0.9650\n",
      "Epoch 20/100\n",
      "7/7 [==============================] - 0s 15ms/step - loss: 0.2043 - accuracy: 0.9296 - val_loss: 0.1091 - val_accuracy: 0.9650\n",
      "Epoch 21/100\n",
      "7/7 [==============================] - 0s 16ms/step - loss: 0.1912 - accuracy: 0.9272 - val_loss: 0.1025 - val_accuracy: 0.9720\n",
      "Epoch 22/100\n",
      "7/7 [==============================] - 0s 15ms/step - loss: 0.1761 - accuracy: 0.9390 - val_loss: 0.1064 - val_accuracy: 0.9720\n",
      "Epoch 23/100\n",
      "7/7 [==============================] - 0s 14ms/step - loss: 0.1635 - accuracy: 0.9366 - val_loss: 0.0922 - val_accuracy: 0.9790\n",
      "Epoch 24/100\n",
      "7/7 [==============================] - 0s 13ms/step - loss: 0.1817 - accuracy: 0.9272 - val_loss: 0.0944 - val_accuracy: 0.9720\n",
      "Epoch 25/100\n",
      "7/7 [==============================] - 0s 16ms/step - loss: 0.1687 - accuracy: 0.9296 - val_loss: 0.0872 - val_accuracy: 0.9860\n",
      "Epoch 26/100\n",
      "7/7 [==============================] - 0s 15ms/step - loss: 0.1527 - accuracy: 0.9507 - val_loss: 0.0835 - val_accuracy: 0.9790\n",
      "Epoch 27/100\n",
      "7/7 [==============================] - 0s 15ms/step - loss: 0.1272 - accuracy: 0.9577 - val_loss: 0.0828 - val_accuracy: 0.9790\n",
      "Epoch 28/100\n",
      "7/7 [==============================] - 0s 13ms/step - loss: 0.1250 - accuracy: 0.9577 - val_loss: 0.0770 - val_accuracy: 0.9790\n",
      "Epoch 29/100\n",
      "7/7 [==============================] - 0s 16ms/step - loss: 0.1463 - accuracy: 0.9437 - val_loss: 0.0705 - val_accuracy: 0.9860\n",
      "Epoch 30/100\n",
      "7/7 [==============================] - 0s 14ms/step - loss: 0.1372 - accuracy: 0.9531 - val_loss: 0.0726 - val_accuracy: 0.9790\n",
      "Epoch 31/100\n",
      "7/7 [==============================] - 0s 16ms/step - loss: 0.1204 - accuracy: 0.9577 - val_loss: 0.0677 - val_accuracy: 0.9790\n",
      "Epoch 32/100\n",
      "7/7 [==============================] - 0s 22ms/step - loss: 0.1195 - accuracy: 0.9460 - val_loss: 0.0765 - val_accuracy: 0.9720\n",
      "Epoch 33/100\n",
      "7/7 [==============================] - 0s 17ms/step - loss: 0.1065 - accuracy: 0.9671 - val_loss: 0.0648 - val_accuracy: 0.9790\n",
      "Epoch 34/100\n",
      "7/7 [==============================] - 0s 26ms/step - loss: 0.1167 - accuracy: 0.9577 - val_loss: 0.0625 - val_accuracy: 0.9720\n",
      "Epoch 35/100\n",
      "7/7 [==============================] - 0s 19ms/step - loss: 0.1163 - accuracy: 0.9601 - val_loss: 0.0668 - val_accuracy: 0.9790\n",
      "Epoch 36/100\n",
      "7/7 [==============================] - 0s 16ms/step - loss: 0.1066 - accuracy: 0.9648 - val_loss: 0.0649 - val_accuracy: 0.9790\n",
      "Epoch 37/100\n",
      "7/7 [==============================] - 0s 15ms/step - loss: 0.1033 - accuracy: 0.9671 - val_loss: 0.0593 - val_accuracy: 0.9790\n",
      "Epoch 38/100\n",
      "7/7 [==============================] - 0s 17ms/step - loss: 0.1071 - accuracy: 0.9648 - val_loss: 0.0618 - val_accuracy: 0.9790\n",
      "Epoch 39/100\n",
      "7/7 [==============================] - 0s 24ms/step - loss: 0.1053 - accuracy: 0.9695 - val_loss: 0.0628 - val_accuracy: 0.9790\n",
      "Epoch 40/100\n",
      "7/7 [==============================] - 0s 22ms/step - loss: 0.0919 - accuracy: 0.9742 - val_loss: 0.0631 - val_accuracy: 0.9790\n",
      "Epoch 41/100\n",
      "7/7 [==============================] - 0s 14ms/step - loss: 0.0964 - accuracy: 0.9695 - val_loss: 0.0560 - val_accuracy: 0.9790\n",
      "Epoch 42/100\n",
      "7/7 [==============================] - 0s 20ms/step - loss: 0.1018 - accuracy: 0.9648 - val_loss: 0.0600 - val_accuracy: 0.9790\n",
      "Epoch 43/100\n",
      "7/7 [==============================] - 0s 24ms/step - loss: 0.0900 - accuracy: 0.9695 - val_loss: 0.0571 - val_accuracy: 0.9790\n",
      "Epoch 44/100\n",
      "7/7 [==============================] - 0s 18ms/step - loss: 0.0970 - accuracy: 0.9624 - val_loss: 0.0532 - val_accuracy: 0.9790\n",
      "Epoch 45/100\n",
      "7/7 [==============================] - 0s 16ms/step - loss: 0.0940 - accuracy: 0.9718 - val_loss: 0.0560 - val_accuracy: 0.9790\n",
      "Epoch 46/100\n",
      "7/7 [==============================] - 0s 22ms/step - loss: 0.0954 - accuracy: 0.9742 - val_loss: 0.0545 - val_accuracy: 0.9790\n",
      "Epoch 47/100\n",
      "7/7 [==============================] - 0s 30ms/step - loss: 0.0796 - accuracy: 0.9789 - val_loss: 0.0592 - val_accuracy: 0.9790\n",
      "Epoch 48/100\n",
      "7/7 [==============================] - 0s 28ms/step - loss: 0.0944 - accuracy: 0.9695 - val_loss: 0.0523 - val_accuracy: 0.9790\n",
      "Epoch 49/100\n",
      "7/7 [==============================] - 0s 32ms/step - loss: 0.0894 - accuracy: 0.9718 - val_loss: 0.0550 - val_accuracy: 0.9790\n",
      "Epoch 50/100\n",
      "7/7 [==============================] - 0s 27ms/step - loss: 0.0792 - accuracy: 0.9695 - val_loss: 0.0510 - val_accuracy: 0.9860\n",
      "Epoch 51/100\n",
      "7/7 [==============================] - 0s 26ms/step - loss: 0.0830 - accuracy: 0.9695 - val_loss: 0.0517 - val_accuracy: 0.9860\n",
      "Epoch 52/100\n",
      "7/7 [==============================] - 0s 36ms/step - loss: 0.0792 - accuracy: 0.9765 - val_loss: 0.0504 - val_accuracy: 0.9790\n",
      "Epoch 53/100\n",
      "7/7 [==============================] - 0s 33ms/step - loss: 0.0852 - accuracy: 0.9671 - val_loss: 0.0490 - val_accuracy: 0.9860\n",
      "Epoch 54/100\n",
      "7/7 [==============================] - 0s 18ms/step - loss: 0.0923 - accuracy: 0.9695 - val_loss: 0.0498 - val_accuracy: 0.9790\n",
      "Epoch 55/100\n",
      "7/7 [==============================] - 0s 23ms/step - loss: 0.0742 - accuracy: 0.9765 - val_loss: 0.0531 - val_accuracy: 0.9790\n",
      "Epoch 56/100\n",
      "7/7 [==============================] - 0s 23ms/step - loss: 0.0836 - accuracy: 0.9624 - val_loss: 0.0503 - val_accuracy: 0.9790\n",
      "Epoch 57/100\n",
      "7/7 [==============================] - 0s 24ms/step - loss: 0.0693 - accuracy: 0.9742 - val_loss: 0.0487 - val_accuracy: 0.9930\n",
      "Epoch 58/100\n",
      "7/7 [==============================] - 0s 28ms/step - loss: 0.0705 - accuracy: 0.9695 - val_loss: 0.0547 - val_accuracy: 0.9790\n",
      "Epoch 59/100\n"
     ]
    },
    {
     "name": "stdout",
     "output_type": "stream",
     "text": [
      "7/7 [==============================] - 0s 23ms/step - loss: 0.0746 - accuracy: 0.9812 - val_loss: 0.0609 - val_accuracy: 0.9720\n",
      "Epoch 60/100\n",
      "7/7 [==============================] - 0s 12ms/step - loss: 0.0823 - accuracy: 0.9601 - val_loss: 0.0489 - val_accuracy: 0.9860\n",
      "Epoch 61/100\n",
      "7/7 [==============================] - 0s 13ms/step - loss: 0.0658 - accuracy: 0.9742 - val_loss: 0.0516 - val_accuracy: 0.9790\n",
      "Epoch 62/100\n",
      "7/7 [==============================] - 0s 18ms/step - loss: 0.0684 - accuracy: 0.9765 - val_loss: 0.0520 - val_accuracy: 0.9790\n",
      "Epoch 63/100\n",
      "7/7 [==============================] - 0s 14ms/step - loss: 0.0741 - accuracy: 0.9718 - val_loss: 0.0472 - val_accuracy: 0.9860\n",
      "Epoch 64/100\n",
      "7/7 [==============================] - 0s 15ms/step - loss: 0.0703 - accuracy: 0.9742 - val_loss: 0.0543 - val_accuracy: 0.9790\n",
      "Epoch 65/100\n",
      "7/7 [==============================] - 0s 14ms/step - loss: 0.0646 - accuracy: 0.9765 - val_loss: 0.0478 - val_accuracy: 0.9790\n",
      "Epoch 66/100\n",
      "7/7 [==============================] - 0s 19ms/step - loss: 0.0663 - accuracy: 0.9765 - val_loss: 0.0472 - val_accuracy: 0.9860\n",
      "Epoch 67/100\n",
      "7/7 [==============================] - 0s 16ms/step - loss: 0.0811 - accuracy: 0.9742 - val_loss: 0.0473 - val_accuracy: 0.9860\n",
      "Epoch 68/100\n",
      "7/7 [==============================] - 0s 18ms/step - loss: 0.0648 - accuracy: 0.9789 - val_loss: 0.0471 - val_accuracy: 0.9860\n",
      "Epoch 69/100\n",
      "7/7 [==============================] - 0s 19ms/step - loss: 0.0663 - accuracy: 0.9765 - val_loss: 0.0476 - val_accuracy: 0.9860\n",
      "Epoch 70/100\n",
      "7/7 [==============================] - 0s 18ms/step - loss: 0.0624 - accuracy: 0.9789 - val_loss: 0.0475 - val_accuracy: 0.9790\n",
      "Epoch 71/100\n",
      "7/7 [==============================] - 0s 21ms/step - loss: 0.0606 - accuracy: 0.9836 - val_loss: 0.0455 - val_accuracy: 0.9860\n",
      "Epoch 72/100\n",
      "7/7 [==============================] - 0s 19ms/step - loss: 0.0640 - accuracy: 0.9765 - val_loss: 0.0541 - val_accuracy: 0.9720\n",
      "Epoch 73/100\n",
      "7/7 [==============================] - 0s 17ms/step - loss: 0.0656 - accuracy: 0.9812 - val_loss: 0.0475 - val_accuracy: 0.9860\n",
      "Epoch 74/100\n",
      "7/7 [==============================] - 0s 18ms/step - loss: 0.0741 - accuracy: 0.9742 - val_loss: 0.0445 - val_accuracy: 0.9860\n",
      "Epoch 75/100\n",
      "7/7 [==============================] - 0s 20ms/step - loss: 0.0609 - accuracy: 0.9765 - val_loss: 0.0498 - val_accuracy: 0.9860\n",
      "Epoch 76/100\n",
      "7/7 [==============================] - 0s 20ms/step - loss: 0.0591 - accuracy: 0.9812 - val_loss: 0.0468 - val_accuracy: 0.9860\n",
      "Epoch 77/100\n",
      "7/7 [==============================] - 0s 19ms/step - loss: 0.0607 - accuracy: 0.9812 - val_loss: 0.0464 - val_accuracy: 0.9860\n",
      "Epoch 78/100\n",
      "7/7 [==============================] - 0s 18ms/step - loss: 0.0517 - accuracy: 0.9836 - val_loss: 0.0486 - val_accuracy: 0.9860\n",
      "Epoch 79/100\n",
      "7/7 [==============================] - 0s 17ms/step - loss: 0.0686 - accuracy: 0.9836 - val_loss: 0.0500 - val_accuracy: 0.9860\n",
      "Epoch 80/100\n",
      "7/7 [==============================] - 0s 15ms/step - loss: 0.0577 - accuracy: 0.9742 - val_loss: 0.0471 - val_accuracy: 0.9860\n",
      "Epoch 81/100\n",
      "7/7 [==============================] - 0s 21ms/step - loss: 0.0715 - accuracy: 0.9789 - val_loss: 0.0484 - val_accuracy: 0.9860\n",
      "Epoch 82/100\n",
      "7/7 [==============================] - 0s 19ms/step - loss: 0.0520 - accuracy: 0.9789 - val_loss: 0.0542 - val_accuracy: 0.9860\n",
      "Epoch 83/100\n",
      "7/7 [==============================] - 0s 25ms/step - loss: 0.0674 - accuracy: 0.9765 - val_loss: 0.0514 - val_accuracy: 0.9860\n",
      "Epoch 84/100\n",
      "7/7 [==============================] - 0s 15ms/step - loss: 0.0580 - accuracy: 0.9812 - val_loss: 0.0481 - val_accuracy: 0.9860\n",
      "Epoch 85/100\n",
      "7/7 [==============================] - 0s 15ms/step - loss: 0.0588 - accuracy: 0.9859 - val_loss: 0.0538 - val_accuracy: 0.9860\n",
      "Epoch 86/100\n",
      "7/7 [==============================] - 0s 18ms/step - loss: 0.0478 - accuracy: 0.9906 - val_loss: 0.0501 - val_accuracy: 0.9860\n",
      "Epoch 87/100\n",
      "7/7 [==============================] - 0s 20ms/step - loss: 0.0524 - accuracy: 0.9836 - val_loss: 0.0466 - val_accuracy: 0.9860\n",
      "Epoch 88/100\n",
      "7/7 [==============================] - 0s 17ms/step - loss: 0.0618 - accuracy: 0.9765 - val_loss: 0.0511 - val_accuracy: 0.9860\n",
      "Epoch 89/100\n",
      "7/7 [==============================] - 0s 16ms/step - loss: 0.0561 - accuracy: 0.9859 - val_loss: 0.0456 - val_accuracy: 0.9860\n",
      "Epoch 90/100\n",
      "7/7 [==============================] - 0s 14ms/step - loss: 0.0564 - accuracy: 0.9859 - val_loss: 0.0475 - val_accuracy: 0.9860\n",
      "Epoch 91/100\n",
      "7/7 [==============================] - 0s 22ms/step - loss: 0.0696 - accuracy: 0.9695 - val_loss: 0.0486 - val_accuracy: 0.9860\n",
      "Epoch 92/100\n",
      "7/7 [==============================] - 0s 21ms/step - loss: 0.0514 - accuracy: 0.9836 - val_loss: 0.0449 - val_accuracy: 0.9860\n",
      "Epoch 93/100\n",
      "7/7 [==============================] - 0s 25ms/step - loss: 0.0668 - accuracy: 0.9718 - val_loss: 0.0452 - val_accuracy: 0.9860\n",
      "Epoch 94/100\n",
      "7/7 [==============================] - 0s 28ms/step - loss: 0.0477 - accuracy: 0.9859 - val_loss: 0.0458 - val_accuracy: 0.9860\n",
      "Epoch 95/100\n",
      "7/7 [==============================] - 0s 23ms/step - loss: 0.0482 - accuracy: 0.9859 - val_loss: 0.0499 - val_accuracy: 0.9860\n",
      "Epoch 96/100\n",
      "7/7 [==============================] - 0s 14ms/step - loss: 0.0583 - accuracy: 0.9812 - val_loss: 0.0512 - val_accuracy: 0.9860\n",
      "Epoch 97/100\n",
      "7/7 [==============================] - 0s 17ms/step - loss: 0.0538 - accuracy: 0.9836 - val_loss: 0.0475 - val_accuracy: 0.9930\n",
      "Epoch 98/100\n",
      "7/7 [==============================] - 0s 19ms/step - loss: 0.0537 - accuracy: 0.9859 - val_loss: 0.0508 - val_accuracy: 0.9790\n",
      "Epoch 99/100\n",
      "7/7 [==============================] - 0s 18ms/step - loss: 0.0494 - accuracy: 0.9836 - val_loss: 0.0558 - val_accuracy: 0.9790\n",
      "Epoch 100/100\n",
      "7/7 [==============================] - 0s 20ms/step - loss: 0.0516 - accuracy: 0.9859 - val_loss: 0.0488 - val_accuracy: 0.9790\n"
     ]
    }
   ],
   "source": [
    "# fit with no early stopping or other callbacks:\n",
    "history = model.fit(x_train,y_train,verbose = 1,epochs = 100, batch_size = 64,validation_data = (x_test,y_test))"
   ]
  },
  {
   "cell_type": "code",
   "execution_count": 19,
   "metadata": {
    "colab": {
     "base_uri": "https://localhost:8080/",
     "height": 573
    },
    "id": "H4O-sAfSEww8",
    "outputId": "2235947b-0ebc-4d00-f56e-60f1021f9584"
   },
   "outputs": [
    {
     "data": {
      "image/png": "[encoded data removed]",
      "text/plain": [
       "<Figure size 640x480 with 1 Axes>"
      ]
     },
     "metadata": {},
     "output_type": "display_data"
    },
    {
     "data": {
      "image/png": "[encoded data removed]",
      "text/plain": [
       "<Figure size 640x480 with 1 Axes>"
      ]
     },
     "metadata": {},
     "output_type": "display_data"
    }
   ],
   "source": [
    "# plot the training and validation accuracy and loss at each epochs:\n",
    "loss = history.history['loss']\n",
    "val_loss = history.history['val_loss']\n",
    "epochs = range(1,len(loss)+1)\n",
    "plt.plot(epochs,loss,'y',label = 'Training loss')\n",
    "plt.plot(epochs,val_loss,'r',label = 'Validation loss')\n",
    "plt.title('TechVidvan Training and Validation loss')\n",
    "plt.xlabel('Epochs')\n",
    "plt.ylabel('Loss')\n",
    "plt.legend()\n",
    "plt.show()\n",
    "\n",
    "acc = history.history['accuracy']\n",
    "val_acc = history.history['val_accuracy']\n",
    "plt.plot(epochs,acc,'y',label = 'Training acc')\n",
    "plt.plot(epochs,val_acc,'r',label = 'Validation acc')\n",
    "plt.title('TechVidvan Training and Validation accuracy')\n",
    "plt.xlabel('Epochs')\n",
    "plt.ylabel('Accuracy')\n",
    "plt.legend()\n",
    "plt.show()\n",
    "\n"
   ]
  },
  {
   "cell_type": "code",
   "execution_count": 20,
   "metadata": {
    "colab": {
     "base_uri": "https://localhost:8080/",
     "height": 282
    },
    "id": "9r2Z32ZOOVYM",
    "outputId": "5aecc95a-f560-4c6f-fc4c-3b7341dc1359"
   },
   "outputs": [
    {
     "name": "stdout",
     "output_type": "stream",
     "text": [
      "5/5 [==============================] - 0s 6ms/step\n"
     ]
    },
    {
     "data": {
      "text/plain": [
       "<AxesSubplot:>"
      ]
     },
     "execution_count": 20,
     "metadata": {},
     "output_type": "execute_result"
    },
    {
     "data": {
      "image/png": "[encoded data removed]",
      "text/plain": [
       "<Figure size 640x480 with 2 Axes>"
      ]
     },
     "metadata": {},
     "output_type": "display_data"
    }
   ],
   "source": [
    "# Predicting the Test set results:\n",
    "y_pred = model.predict(x_test)\n",
    "y_pred = (y_pred > 0.5)\n",
    "\n",
    "# Making the Confusion Matrix:\n",
    "from sklearn.metrics import confusion_matrix\n",
    "cm = confusion_matrix(y_test,y_pred)\n",
    "\n",
    "sns.heatmap(cm, annot = True)"
   ]
  },
  {
   "cell_type": "code",
   "execution_count": null,
   "metadata": {
    "id": "SvVZS9ZqPLuh"
   },
   "outputs": [],
   "source": [
    "# Load the dataset\n",
    "from google.colab import files\n",
    "uploaded = files.upload()"
   ]
  }
 ],
 "metadata": {
  "colab": {
   "collapsed_sections": [],
   "name": "Breast_Cancer_Classification.ipynb",
   "provenance": []
  },
  "kernelspec": {
   "display_name": "Python 3 (ipykernel)",
   "language": "python",
   "name": "python3"
  },
  "language_info": {
   "codemirror_mode": {
    "name": "ipython",
    "version": 3
   },
   "file_extension": ".py",
   "mimetype": "text/x-python",
   "name": "python",
   "nbconvert_exporter": "python",
   "pygments_lexer": "ipython3",
   "version": "3.9.13"
  }
 },
 "nbformat": 4,
 "nbformat_minor": 1
}
